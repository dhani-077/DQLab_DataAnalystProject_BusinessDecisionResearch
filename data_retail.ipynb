{
 "cells": [
  {
   "cell_type": "code",
   "execution_count": 1,
   "id": "0b066f91",
   "metadata": {},
   "outputs": [],
   "source": [
    "import pandas as pd\n",
    "import numpy as np\n",
    "import matplotlib.pyplot as plt\n",
    "import seaborn as sns\n",
    "from sklearn.model_selection import train_test_split\n",
    "from sklearn.linear_model import LogisticRegression\n",
    "from sklearn.metrics import confusion_matrix\n",
    "from sklearn.metrics import accuracy_score, precision_score, recall_score"
   ]
  },
  {
   "cell_type": "code",
   "execution_count": 2,
   "id": "279cde32",
   "metadata": {},
   "outputs": [],
   "source": [
    "df = pd.read_csv('data_retail.csv', sep=';')"
   ]
  },
  {
   "cell_type": "code",
   "execution_count": 3,
   "id": "7933f29a",
   "metadata": {
    "scrolled": true
   },
   "outputs": [
    {
     "name": "stdout",
     "output_type": "stream",
     "text": [
      "Lima data teratas:\n",
      "   no  Row_Num  Customer_ID Product  First_Transaction  Last_Transaction  \\\n",
      "0   1        1        29531   Jaket      1466304274396     1538718482608   \n",
      "1   2        2        29531  Sepatu      1406077331494     1545735761270   \n",
      "2   3        3       141526     Tas      1493349147000     1548322802000   \n",
      "3   4        4       141526   Jaket      1493362372547     1547643603911   \n",
      "4   5        5        37545  Sepatu      1429178498531     1542891221530   \n",
      "\n",
      "   Average_Transaction_Amount  Count_Transaction  \n",
      "0                     1467681                 22  \n",
      "1                     1269337                 41  \n",
      "2                      310915                 30  \n",
      "3                      722632                 27  \n",
      "4                     1775036                 25  \n"
     ]
    }
   ],
   "source": [
    "print('Lima data teratas:')\n",
    "print(df.head())"
   ]
  },
  {
   "cell_type": "code",
   "execution_count": 4,
   "id": "0936d5e6",
   "metadata": {},
   "outputs": [
    {
     "name": "stdout",
     "output_type": "stream",
     "text": [
      "\n",
      "Info dataset:\n",
      "<class 'pandas.core.frame.DataFrame'>\n",
      "RangeIndex: 100000 entries, 0 to 99999\n",
      "Data columns (total 8 columns):\n",
      " #   Column                      Non-Null Count   Dtype \n",
      "---  ------                      --------------   ----- \n",
      " 0   no                          100000 non-null  int64 \n",
      " 1   Row_Num                     100000 non-null  int64 \n",
      " 2   Customer_ID                 100000 non-null  int64 \n",
      " 3   Product                     100000 non-null  object\n",
      " 4   First_Transaction           100000 non-null  int64 \n",
      " 5   Last_Transaction            100000 non-null  int64 \n",
      " 6   Average_Transaction_Amount  100000 non-null  int64 \n",
      " 7   Count_Transaction           100000 non-null  int64 \n",
      "dtypes: int64(7), object(1)\n",
      "memory usage: 6.1+ MB\n",
      "None\n"
     ]
    }
   ],
   "source": [
    "print('\\nInfo dataset:')\n",
    "print(df.info())"
   ]
  },
  {
   "cell_type": "code",
   "execution_count": 5,
   "id": "53e6912d",
   "metadata": {},
   "outputs": [],
   "source": [
    "# Kolom First_Transaction\n",
    "df['First_Transaction'] = pd.to_datetime(df['First_Transaction']/1000, unit='s', origin='1970-01-01')"
   ]
  },
  {
   "cell_type": "code",
   "execution_count": 6,
   "id": "a7214842",
   "metadata": {},
   "outputs": [],
   "source": [
    "# Kolom Last_Transaction\n",
    "df['Last_Transaction'] = pd.to_datetime(df['Last_Transaction']/1000, unit='s', origin='1970-01-01')"
   ]
  },
  {
   "cell_type": "code",
   "execution_count": 7,
   "id": "db850890",
   "metadata": {},
   "outputs": [
    {
     "name": "stdout",
     "output_type": "stream",
     "text": [
      "Lima data teratas:\n",
      "   no  Row_Num  Customer_ID Product             First_Transaction  \\\n",
      "0   1        1        29531   Jaket 2016-06-19 02:44:34.396000000   \n",
      "1   2        2        29531  Sepatu 2014-07-23 01:02:11.493999872   \n",
      "2   3        3       141526     Tas 2017-04-28 03:12:27.000000000   \n",
      "3   4        4       141526   Jaket 2017-04-28 06:52:52.546999808   \n",
      "4   5        5        37545  Sepatu 2015-04-16 10:01:38.530999808   \n",
      "\n",
      "               Last_Transaction  Average_Transaction_Amount  Count_Transaction  \n",
      "0 2018-10-05 05:48:02.608000000                     1467681                 22  \n",
      "1 2018-12-25 11:02:41.269999872                     1269337                 41  \n",
      "2 2019-01-24 09:40:02.000000000                      310915                 30  \n",
      "3 2019-01-16 13:00:03.911000064                      722632                 27  \n",
      "4 2018-11-22 12:53:41.529999872                     1775036                 25  \n"
     ]
    }
   ],
   "source": [
    "print('Lima data teratas:')\n",
    "print(df.head())"
   ]
  },
  {
   "cell_type": "code",
   "execution_count": 8,
   "id": "64bdf195",
   "metadata": {},
   "outputs": [
    {
     "name": "stdout",
     "output_type": "stream",
     "text": [
      "\n",
      "Info dataset:\n",
      "<class 'pandas.core.frame.DataFrame'>\n",
      "RangeIndex: 100000 entries, 0 to 99999\n",
      "Data columns (total 8 columns):\n",
      " #   Column                      Non-Null Count   Dtype         \n",
      "---  ------                      --------------   -----         \n",
      " 0   no                          100000 non-null  int64         \n",
      " 1   Row_Num                     100000 non-null  int64         \n",
      " 2   Customer_ID                 100000 non-null  int64         \n",
      " 3   Product                     100000 non-null  object        \n",
      " 4   First_Transaction           100000 non-null  datetime64[ns]\n",
      " 5   Last_Transaction            100000 non-null  datetime64[ns]\n",
      " 6   Average_Transaction_Amount  100000 non-null  int64         \n",
      " 7   Count_Transaction           100000 non-null  int64         \n",
      "dtypes: datetime64[ns](2), int64(5), object(1)\n",
      "memory usage: 6.1+ MB\n",
      "None\n"
     ]
    }
   ],
   "source": [
    "print('\\nInfo dataset:')\n",
    "print(df.info())"
   ]
  },
  {
   "cell_type": "code",
   "execution_count": 9,
   "id": "eac3f908",
   "metadata": {},
   "outputs": [
    {
     "name": "stdout",
     "output_type": "stream",
     "text": [
      "2019-02-01 23:57:57.286000128\n"
     ]
    }
   ],
   "source": [
    "# Pengecekan transaksaksi terakhir dalam dataset\n",
    "print(max(df['Last_Transaction']))"
   ]
  },
  {
   "cell_type": "code",
   "execution_count": 10,
   "id": "a3fc9fa0",
   "metadata": {},
   "outputs": [
    {
     "data": {
      "text/plain": [
       "0        False\n",
       "1        False\n",
       "2        False\n",
       "3        False\n",
       "4        False\n",
       "         ...  \n",
       "99995     True\n",
       "99996     True\n",
       "99997     True\n",
       "99998     True\n",
       "99999    False\n",
       "Name: is_churn, Length: 100000, dtype: bool"
      ]
     },
     "execution_count": 10,
     "metadata": {},
     "output_type": "execute_result"
    }
   ],
   "source": [
    "df['is_churn'] = df.loc[:, 'Last_Transaction'] <= '2018-08-01'\n",
    "df['is_churn']"
   ]
  },
  {
   "cell_type": "code",
   "execution_count": 11,
   "id": "b66840ff",
   "metadata": {},
   "outputs": [
    {
     "name": "stdout",
     "output_type": "stream",
     "text": [
      "Lima data teratas:\n",
      "   no  Row_Num  Customer_ID Product             First_Transaction  \\\n",
      "0   1        1        29531   Jaket 2016-06-19 02:44:34.396000000   \n",
      "1   2        2        29531  Sepatu 2014-07-23 01:02:11.493999872   \n",
      "2   3        3       141526     Tas 2017-04-28 03:12:27.000000000   \n",
      "3   4        4       141526   Jaket 2017-04-28 06:52:52.546999808   \n",
      "4   5        5        37545  Sepatu 2015-04-16 10:01:38.530999808   \n",
      "\n",
      "               Last_Transaction  Average_Transaction_Amount  \\\n",
      "0 2018-10-05 05:48:02.608000000                     1467681   \n",
      "1 2018-12-25 11:02:41.269999872                     1269337   \n",
      "2 2019-01-24 09:40:02.000000000                      310915   \n",
      "3 2019-01-16 13:00:03.911000064                      722632   \n",
      "4 2018-11-22 12:53:41.529999872                     1775036   \n",
      "\n",
      "   Count_Transaction  is_churn  \n",
      "0                 22     False  \n",
      "1                 41     False  \n",
      "2                 30     False  \n",
      "3                 27     False  \n",
      "4                 25     False  \n"
     ]
    }
   ],
   "source": [
    "print('Lima data teratas:')\n",
    "print(df.head())"
   ]
  },
  {
   "cell_type": "code",
   "execution_count": 12,
   "id": "084be4de",
   "metadata": {},
   "outputs": [
    {
     "name": "stdout",
     "output_type": "stream",
     "text": [
      "\n",
      "Info dataset:\n",
      "<class 'pandas.core.frame.DataFrame'>\n",
      "RangeIndex: 100000 entries, 0 to 99999\n",
      "Data columns (total 9 columns):\n",
      " #   Column                      Non-Null Count   Dtype         \n",
      "---  ------                      --------------   -----         \n",
      " 0   no                          100000 non-null  int64         \n",
      " 1   Row_Num                     100000 non-null  int64         \n",
      " 2   Customer_ID                 100000 non-null  int64         \n",
      " 3   Product                     100000 non-null  object        \n",
      " 4   First_Transaction           100000 non-null  datetime64[ns]\n",
      " 5   Last_Transaction            100000 non-null  datetime64[ns]\n",
      " 6   Average_Transaction_Amount  100000 non-null  int64         \n",
      " 7   Count_Transaction           100000 non-null  int64         \n",
      " 8   is_churn                    100000 non-null  bool          \n",
      "dtypes: bool(1), datetime64[ns](2), int64(5), object(1)\n",
      "memory usage: 6.2+ MB\n",
      "None\n"
     ]
    }
   ],
   "source": [
    "print('\\nInfo dataset:')\n",
    "print(df.info())"
   ]
  },
  {
   "cell_type": "code",
   "execution_count": 13,
   "id": "aee68791",
   "metadata": {},
   "outputs": [],
   "source": [
    "# Hapus kolom-kolom yang tidak diperlukan\n",
    "del df['no']\n",
    "del df['Row_Num']"
   ]
  },
  {
   "cell_type": "code",
   "execution_count": 14,
   "id": "c16471b4",
   "metadata": {},
   "outputs": [
    {
     "name": "stdout",
     "output_type": "stream",
     "text": [
      "   Customer_ID Product             First_Transaction  \\\n",
      "0        29531   Jaket 2016-06-19 02:44:34.396000000   \n",
      "1        29531  Sepatu 2014-07-23 01:02:11.493999872   \n",
      "2       141526     Tas 2017-04-28 03:12:27.000000000   \n",
      "3       141526   Jaket 2017-04-28 06:52:52.546999808   \n",
      "4        37545  Sepatu 2015-04-16 10:01:38.530999808   \n",
      "\n",
      "               Last_Transaction  Average_Transaction_Amount  \\\n",
      "0 2018-10-05 05:48:02.608000000                     1467681   \n",
      "1 2018-12-25 11:02:41.269999872                     1269337   \n",
      "2 2019-01-24 09:40:02.000000000                      310915   \n",
      "3 2019-01-16 13:00:03.911000064                      722632   \n",
      "4 2018-11-22 12:53:41.529999872                     1775036   \n",
      "\n",
      "   Count_Transaction  is_churn  \n",
      "0                 22     False  \n",
      "1                 41     False  \n",
      "2                 30     False  \n",
      "3                 27     False  \n",
      "4                 25     False  \n"
     ]
    }
   ],
   "source": [
    "# Cetak lima data teratas\n",
    "print(df.head())"
   ]
  },
  {
   "cell_type": "code",
   "execution_count": 15,
   "id": "1203c6f6",
   "metadata": {},
   "outputs": [],
   "source": [
    "# Kolom tahun transaksi pertama\n",
    "df['Year_First_Transaction'] = df['First_Transaction'].dt.year"
   ]
  },
  {
   "cell_type": "code",
   "execution_count": 16,
   "id": "de2c85aa",
   "metadata": {},
   "outputs": [
    {
     "data": {
      "image/png": "[encoded data removed]",
      "text/plain": [
       "<Figure size 432x288 with 1 Axes>"
      ]
     },
     "metadata": {
      "needs_background": "light"
     },
     "output_type": "display_data"
    }
   ],
   "source": [
    "# Kolom tahun transaksi terakhir\n",
    "df['Year_Last_Transaction'] = df['Last_Transaction'].dt.year\n",
    "\n",
    "df_year = df.groupby(['Year_First_Transaction'])['Customer_ID'].count()\n",
    "df_year.plot(x='Year_First_Transaction', y='Customer_ID', kind='bar', title='Graph of Customer Acquisition')\n",
    "plt.xlabel('Year_First_Transaction')\n",
    "plt.ylabel('Num_of_Customer')\n",
    "plt.tight_layout()\n",
    "plt.show()"
   ]
  },
  {
   "cell_type": "code",
   "execution_count": 17,
   "id": "076b0387",
   "metadata": {},
   "outputs": [
    {
     "data": {
      "image/png": "[encoded data removed]",
      "text/plain": [
       "<Figure size 432x288 with 1 Axes>"
      ]
     },
     "metadata": {
      "needs_background": "light"
     },
     "output_type": "display_data"
    }
   ],
   "source": [
    "plt.clf()\n",
    "df_year = df.groupby(['Year_First_Transaction'])['Count_Transaction'].sum()\n",
    "df_year.plot(x='Year_First_Transaction', y='Count_Transaction', kind='bar', title='Graph of Transaction Customer')\n",
    "plt.xlabel('Year_First_Transaction')\n",
    "plt.ylabel('Num_of_Transaction')\n",
    "plt.tight_layout()\n",
    "plt.show()"
   ]
  },
  {
   "cell_type": "code",
   "execution_count": 18,
   "id": "a3234aeb",
   "metadata": {},
   "outputs": [
    {
     "data": {
      "image/png": "[encoded data removed]",
      "text/plain": [
       "<Figure size 432x288 with 1 Axes>"
      ]
     },
     "metadata": {
      "needs_background": "light"
     },
     "output_type": "display_data"
    }
   ],
   "source": [
    "plt.clf()\n",
    "sns.pointplot(data = df.groupby(['Product', 'Year_First_Transaction']).mean().reset_index(), \n",
    "              x='Year_First_Transaction', \n",
    "              y='Average_Transaction_Amount', \n",
    "              hue='Product')\n",
    "plt.tight_layout()\n",
    "plt.show()"
   ]
  },
  {
   "cell_type": "code",
   "execution_count": 19,
   "id": "0f41e50c",
   "metadata": {},
   "outputs": [],
   "source": [
    "# Melakukan pivot data dengan pivot_table\n",
    "df_piv = df.pivot_table(index='is_churn', \n",
    "                        columns='Product',\n",
    "                        values='Customer_ID', \n",
    "                        aggfunc='count', \n",
    "                        fill_value=0)"
   ]
  },
  {
   "cell_type": "code",
   "execution_count": 20,
   "id": "223c1dce",
   "metadata": {},
   "outputs": [],
   "source": [
    "# Mendapatkan Proportion Churn by Product\n",
    "plot_product = df_piv.count().sort_values(ascending=False).head(5).index"
   ]
  },
  {
   "cell_type": "code",
   "execution_count": 21,
   "id": "01929885",
   "metadata": {},
   "outputs": [
    {
     "data": {
      "image/png": "[encoded data removed]",
      "text/plain": [
       "<Figure size 720x504 with 4 Axes>"
      ]
     },
     "metadata": {},
     "output_type": "display_data"
    }
   ],
   "source": [
    "# Plot pie chartnya\n",
    "df_piv = df_piv.reindex(columns=plot_product)\n",
    "df_piv.plot.pie(subplots=True,\n",
    "                figsize=(10, 7),\n",
    "                layout=(-1, 2),\n",
    "                autopct='%1.0f%%',\n",
    "                title='Proportion Churn by Product')\n",
    "plt.tight_layout()\n",
    "plt.show()"
   ]
  },
  {
   "cell_type": "code",
   "execution_count": 22,
   "id": "182cc1e1",
   "metadata": {},
   "outputs": [],
   "source": [
    "# Kategorisasi jumlah transaksi\n",
    "def func(row):\n",
    "    if row['Count_Transaction'] == 1:\n",
    "        val = '1. 1'\n",
    "    elif (row['Count_Transaction'] > 1 and row['Count_Transaction'] <= 3):\n",
    "        val ='2. 2 - 3'\n",
    "    elif (row['Count_Transaction'] > 3 and row['Count_Transaction'] <= 6):\n",
    "        val ='3. 4 - 6'\n",
    "    elif (row['Count_Transaction'] > 6 and row['Count_Transaction'] <= 10):\n",
    "        val ='4. 7 - 10'\n",
    "    else:\n",
    "        val ='5. > 10'\n",
    "    return val"
   ]
  },
  {
   "cell_type": "code",
   "execution_count": 23,
   "id": "d64322c7",
   "metadata": {},
   "outputs": [
    {
     "data": {
      "image/png": "[encoded data removed]",
      "text/plain": [
       "<Figure size 432x288 with 1 Axes>"
      ]
     },
     "metadata": {
      "needs_background": "light"
     },
     "output_type": "display_data"
    }
   ],
   "source": [
    "# Tambahkan kolom baru\n",
    "df['Count_Transaction_Group'] = df.apply(func, axis=1)\n",
    "\n",
    "df_year = df.groupby(['Count_Transaction_Group'])['Customer_ID'].count()\n",
    "df_year.plot(x='Count_Transaction_Group', y='Customer_ID', kind='bar', title='Customer Distribution by Count Transaction Group')\n",
    "plt.xlabel('Count_Transaction_Group')\n",
    "plt.ylabel('Num_of_Customer')\n",
    "plt.tight_layout()\n",
    "plt.show()"
   ]
  },
  {
   "cell_type": "code",
   "execution_count": 24,
   "id": "8a03fe43",
   "metadata": {},
   "outputs": [],
   "source": [
    "# Kategorisasi rata-rata besar transaksi\n",
    "def f(row):\n",
    "    if (row['Average_Transaction_Amount'] >= 100000 and row['Average_Transaction_Amount'] <= 200000):\n",
    "        val ='1. 100.000 - 250.000'\n",
    "    elif (row['Average_Transaction_Amount'] >250000 and row['Average_Transaction_Amount'] <= 500000):\n",
    "        val ='2. >250.000 - 500.000'\n",
    "    elif (row['Average_Transaction_Amount'] >500000 and row['Average_Transaction_Amount'] <= 750000):\n",
    "        val = '3. >500.000 - 750.000'\n",
    "    elif (row['Average_Transaction_Amount'] >750000 and row['Average_Transaction_Amount'] <= 1000000):\n",
    "        val = '4. >750.000 - 1.000.000'\n",
    "    elif (row['Average_Transaction_Amount'] >1000000 and row['Average_Transaction_Amount'] <= 2500000):\n",
    "        val = '5. >1.000.000 - 2.500.000'\n",
    "    elif (row['Average_Transaction_Amount'] >2500000 and row['Average_Transaction_Amount'] <= 5000000):\n",
    "        val = '6. >2.500.000 - 5.000.000'\n",
    "    elif (row['Average_Transaction_Amount'] >5000000 and row['Average_Transaction_Amount'] <= 10000000):\n",
    "        val = '7. >5.000.000 - 10.000.000'\n",
    "    else:\n",
    "        val = '8. >10.000.000'\n",
    "    return val"
   ]
  },
  {
   "cell_type": "code",
   "execution_count": 25,
   "id": "7645578f",
   "metadata": {},
   "outputs": [
    {
     "data": {
      "image/png": "[encoded data removed]",
      "text/plain": [
       "<Figure size 432x288 with 1 Axes>"
      ]
     },
     "metadata": {
      "needs_background": "light"
     },
     "output_type": "display_data"
    }
   ],
   "source": [
    "# Tambahkan kolom baru\n",
    "df['Average_Transaction_Amount_Group'] = df.apply(f, axis=1)\n",
    "\n",
    "df_year = df.groupby(['Average_Transaction_Amount_Group'])['Customer_ID'].count()\n",
    "df_year.plot(x='Average_Transaction_Amount_Group', y='Customer_ID', kind='bar', title='Customer Distribution by Average Transaction Amount Group')\n",
    "plt.xlabel('Average_Transaction_Amount_Group')\n",
    "plt.ylabel('Num_of_Customer')\n",
    "plt.tight_layout()\n",
    "plt.show()"
   ]
  },
  {
   "cell_type": "code",
   "execution_count": 26,
   "id": "d973f8d3",
   "metadata": {},
   "outputs": [],
   "source": [
    "# Feature column: Year_Diff\n",
    "df['Year_Diff'] = df['Year_Last_Transaction'] - df['Year_First_Transaction']"
   ]
  },
  {
   "cell_type": "code",
   "execution_count": 27,
   "id": "862b5911",
   "metadata": {},
   "outputs": [],
   "source": [
    "# Nama-nama feature columns\n",
    "feature_columns = ['Average_Transaction_Amount', 'Count_Transaction', 'Year_Diff']"
   ]
  },
  {
   "cell_type": "code",
   "execution_count": 28,
   "id": "f93e1c81",
   "metadata": {},
   "outputs": [],
   "source": [
    "# Features variable\n",
    "X = df[feature_columns] "
   ]
  },
  {
   "cell_type": "code",
   "execution_count": 29,
   "id": "b23177c7",
   "metadata": {},
   "outputs": [],
   "source": [
    "# Target variable\n",
    "y = df['is_churn']"
   ]
  },
  {
   "cell_type": "code",
   "execution_count": 30,
   "id": "144e6a09",
   "metadata": {},
   "outputs": [],
   "source": [
    "X_train, X_test, y_train, y_test = train_test_split(X, y, test_size=0.25, random_state=0)"
   ]
  },
  {
   "cell_type": "code",
   "execution_count": 31,
   "id": "8e3ccb3c",
   "metadata": {},
   "outputs": [],
   "source": [
    "# Inisiasi model logreg\n",
    "logreg = LogisticRegression()"
   ]
  },
  {
   "cell_type": "code",
   "execution_count": 32,
   "id": "8531e34e",
   "metadata": {},
   "outputs": [
    {
     "data": {
      "text/plain": [
       "LogisticRegression()"
      ]
     },
     "execution_count": 32,
     "metadata": {},
     "output_type": "execute_result"
    }
   ],
   "source": [
    "# fit the model with data\n",
    "logreg.fit(X_train, y_train)"
   ]
  },
  {
   "cell_type": "code",
   "execution_count": 33,
   "id": "54e38c3e",
   "metadata": {},
   "outputs": [],
   "source": [
    "# Predict model\n",
    "y_pred = logreg.predict(X_test)"
   ]
  },
  {
   "cell_type": "code",
   "execution_count": 34,
   "id": "b9a2260c",
   "metadata": {},
   "outputs": [
    {
     "name": "stdout",
     "output_type": "stream",
     "text": [
      "Confusion Matrix:\n",
      " [[    1  8330]\n",
      " [    3 16666]]\n"
     ]
    }
   ],
   "source": [
    "# Evaluasi model menggunakan confusion matrix\n",
    "cnf_matrix = confusion_matrix(y_test, y_pred)\n",
    "print('Confusion Matrix:\\n', cnf_matrix)"
   ]
  },
  {
   "cell_type": "code",
   "execution_count": 35,
   "id": "9cef1915",
   "metadata": {},
   "outputs": [
    {
     "data": {
      "image/png": "[encoded data removed]",
      "text/plain": [
       "<Figure size 432x288 with 2 Axes>"
      ]
     },
     "metadata": {
      "needs_background": "light"
     },
     "output_type": "display_data"
    }
   ],
   "source": [
    "# name  of classes\n",
    "class_names = [0, 1] \n",
    "fig, ax = plt.subplots()\n",
    "\n",
    "tick_marks = np.arange(len(class_names))\n",
    "plt.xticks(tick_marks, class_names)\n",
    "plt.yticks(tick_marks, class_names)\n",
    "\n",
    "# create heatmap\n",
    "sns.heatmap(pd.DataFrame(cnf_matrix), annot=True, cmap='YlGnBu', fmt='g')\n",
    "ax.xaxis.set_label_position('top')\n",
    "plt.title('Confusion matrix', y=1.1)\n",
    "plt.ylabel('Actual')\n",
    "plt.xlabel('Predicted')\n",
    "plt.tight_layout()\n",
    "plt.show()"
   ]
  },
  {
   "cell_type": "code",
   "execution_count": 36,
   "id": "107c9548",
   "metadata": {},
   "outputs": [
    {
     "name": "stdout",
     "output_type": "stream",
     "text": [
      "Accuracy : 0.66668\n",
      "Precision: 0.66668\n",
      "Recall   : 0.66668\n"
     ]
    }
   ],
   "source": [
    "#Menghitung Accuracy, Precision, dan Recall\n",
    "print('Accuracy :', accuracy_score(y_test, y_pred))\n",
    "print('Precision:', precision_score(y_test, y_pred, average='micro'))\n",
    "print('Recall   :', recall_score(y_test, y_pred, average='micro'))"
   ]
  }
 ],
 "metadata": {
  "kernelspec": {
   "display_name": "Python 3 (ipykernel)",
   "language": "python",
   "name": "python3"
  },
  "language_info": {
   "codemirror_mode": {
    "name": "ipython",
    "version": 3
   },
   "file_extension": ".py",
   "mimetype": "text/x-python",
   "name": "python",
   "nbconvert_exporter": "python",
   "pygments_lexer": "ipython3",
   "version": "3.10.1"
  }
 },
 "nbformat": 4,
 "nbformat_minor": 5
}
